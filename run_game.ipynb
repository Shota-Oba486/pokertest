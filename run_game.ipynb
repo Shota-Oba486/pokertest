{
 "cells": [
  {
   "cell_type": "code",
   "execution_count": 4,
   "metadata": {},
   "outputs": [],
   "source": [
    "from player import Player\n",
    "from one_game import OneGame"
   ]
  },
  {
   "cell_type": "code",
   "execution_count": 5,
   "metadata": {},
   "outputs": [],
   "source": [
    "class RunGame:\n",
    "    def __init__(self,player_num,stack,play_num,min_raise,sb_amount):\n",
    "        self.players = []\n",
    "        self.player_num = player_num\n",
    "        for i in range(player_num):\n",
    "            self.players.append(Player(stack,\"player\" + str(i),i))\n",
    "        self.play_num = play_num\n",
    "        self.current_play_num = 0\n",
    "        self.min_raise = min_raise\n",
    "        self.db_player = 0\n",
    "        self.sb_amount = sb_amount\n",
    "        self.result = []\n",
    "\n",
    "    def start(self):\n",
    "        for i in range(self.play_num):\n",
    "            self.current_play_num += 1\n",
    "            onegame = OneGame(self.players,self.db_player,self.sb_amount,self.min_raise)\n",
    "            onegame.start\n",
    "\n",
    "            self.db_player = (i + 1) % self.player_num\n",
    "        \n",
    "        for player in self.players:\n",
    "            self.result.append(player.stack)\n",
    "        \n",
    "        print(f\"result: {self.result}\")\n"
   ]
  }
 ],
 "metadata": {
  "kernelspec": {
   "display_name": "poker_test",
   "language": "python",
   "name": "python3"
  },
  "language_info": {
   "codemirror_mode": {
    "name": "ipython",
    "version": 3
   },
   "file_extension": ".py",
   "mimetype": "text/x-python",
   "name": "python",
   "nbconvert_exporter": "python",
   "pygments_lexer": "ipython3",
   "version": "3.11.10"
  }
 },
 "nbformat": 4,
 "nbformat_minor": 2
}
