{
 "cells": [
  {
   "cell_type": "code",
   "execution_count": 138,
   "metadata": {},
   "outputs": [],
   "source": [
    "import itertools\n",
    "import collections\n",
    "\n",
    "def rank_of_five_card(five_card_list):\n",
    "    rank_to_num = {'A': 14, 'K': 13, 'Q': 12, 'J': 11, 'T': 10, '9': 9, '8': 8, '7': 7, '6': 6, '5': 5, '4': 4, '3': 3,'2': 2}\n",
    "\n",
    "    ### 5枚のカードを数値化\n",
    "    number_ranks = [rank_to_num[card[0]] for card in five_card_list]\n",
    "    num_cnt = collections.Counter(number_ranks)\n",
    "    num_cnt = sorted(num_cnt.items(), key=lambda x: -x[0] - x[1]*100)\n",
    "    num_list = sorted(list(num_cnt),reverse=True)\n",
    "\n",
    "    high = sum([item[0] * 100 ** (4 - i) for i, item in enumerate(num_cnt)])\n",
    "\n",
    "    ### 絵札をリスト化\n",
    "    suits = [card[1] for card in five_card_list]\n",
    "    suits_cnt = collections.Counter(suits)\n",
    "    is_flush = len(suits_cnt) == 1\n",
    "\n",
    "    if len(num_cnt) == 2:\n",
    "        if num_cnt[0][1] == 4:\n",
    "            rank_text,rank = \"four card\", 8\n",
    "        else:\n",
    "            rank_text,rank = \"full house\", 7\n",
    "    elif len(num_cnt) == 3:\n",
    "        if num_cnt[0][1] == 3:\n",
    "            rank_text,rank = \"three card\", 4\n",
    "        else:\n",
    "            rank_text,rank = \"two pair\", 3\n",
    "    elif len(num_cnt) == 4:\n",
    "        rank_text,rank = \"one pair\", 2\n",
    "    else:\n",
    "        is_straight = (num_list[0][0] - num_list[4][0] == 4) or (num_list[0][0] == 14 and num_list[1][0] == 5)\n",
    "        if is_flush:\n",
    "            if is_straight:\n",
    "                rank_text,rank = \"straight flush\", 9\n",
    "            else:\n",
    "                rank_text,rank = \"flush\", 6\n",
    "        else:\n",
    "            if is_straight:\n",
    "                rank_text,rank = \"straight\", 5\n",
    "            else:\n",
    "                rank_text,rank = \"nothing\", 1\n",
    "    \n",
    "    high = rank * 100 ** 5 + high\n",
    "    return rank_text,rank,high\n",
    "\n",
    "\n",
    "def rank_of_seven_card(seven_card_list):\n",
    "    best_rank_num = 0\n",
    "    five_card_list = itertools.combinations(seven_card_list, 5)\n",
    "\n",
    "    for five_card in five_card_list:\n",
    "        ranks = rank_of_five_card(five_card)\n",
    "        if ranks[2] > best_rank_num:\n",
    "            best_rank_num = ranks[2]\n",
    "            best_five_card = five_card\n",
    "            best_rank_text = ranks[0]\n",
    "    return best_five_card, best_rank_text, best_rank_num\n"
   ]
  },
  {
   "cell_type": "code",
   "execution_count": 144,
   "metadata": {},
   "outputs": [
    {
     "name": "stdout",
     "output_type": "stream",
     "text": [
      "['Td', '6h', '6d', '4c', '9s', '7c', '5c']\n",
      "['Td', '6h', '6d', '4c', '9s']\n"
     ]
    },
    {
     "data": {
      "text/plain": [
       "(('Td', '6h', '6d', '9s', '7c'), 'one pair', 20610090700)"
      ]
     },
     "execution_count": 144,
     "metadata": {},
     "output_type": "execute_result"
    }
   ],
   "source": [
    "import random\n",
    "\n",
    "deck = [\n",
    "    \"As\", \"Ad\", \"Ac\", \"Ah\", \n",
    "    \"Ks\", \"Kd\", \"Kc\", \"Kh\", \n",
    "    \"Qs\", \"Qd\", \"Qc\", \"Qh\", \n",
    "    \"Js\", \"Jd\", \"Jc\", \"Jh\", \n",
    "    \"Ts\", \"Td\", \"Tc\", \"Th\", \n",
    "    \"9s\", \"9d\", \"9c\", \"9h\", \n",
    "    \"8s\", \"8d\", \"8c\", \"8h\", \n",
    "    \"7s\", \"7d\", \"7c\", \"7h\", \n",
    "    \"6s\", \"6d\", \"6c\", \"6h\", \n",
    "    \"5s\", \"5d\", \"5c\", \"5h\", \n",
    "    \"4s\", \"4d\", \"4c\", \"4h\", \n",
    "    \"3s\", \"3d\", \"3c\", \"3h\", \n",
    "    \"2s\", \"2d\", \"2c\", \"2h\"\n",
    "]\n",
    "\n",
    "random.shuffle(deck)\n",
    "seven_cards = deck[:7]\n",
    "print(seven_cards)\n",
    "\n",
    "five_cards = deck[:5]\n",
    "print(five_cards)\n",
    "\n",
    "rank_of_seven_card(seven_cards)"
   ]
  }
 ],
 "metadata": {
  "kernelspec": {
   "display_name": "poker_test",
   "language": "python",
   "name": "python3"
  },
  "language_info": {
   "codemirror_mode": {
    "name": "ipython",
    "version": 3
   },
   "file_extension": ".py",
   "mimetype": "text/x-python",
   "name": "python",
   "nbconvert_exporter": "python",
   "pygments_lexer": "ipython3",
   "version": "3.11.10"
  }
 },
 "nbformat": 4,
 "nbformat_minor": 2
}
